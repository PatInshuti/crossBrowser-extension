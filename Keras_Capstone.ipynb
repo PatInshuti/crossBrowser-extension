{
  "nbformat": 4,
  "nbformat_minor": 0,
  "metadata": {
    "colab": {
      "name": "Keras-Capstone.ipynb",
      "provenance": [],
      "collapsed_sections": [],
      "include_colab_link": true
    },
    "kernelspec": {
      "name": "python3",
      "display_name": "Python 3"
    }
  },
  "cells": [
    {
      "cell_type": "markdown",
      "metadata": {
        "id": "view-in-github",
        "colab_type": "text"
      },
      "source": [
        "<a href=\"https://colab.research.google.com/github/PatInshuti/crossBrowser-extension/blob/master/Keras_Capstone.ipynb\" target=\"_parent\"><img src=\"https://colab.research.google.com/assets/colab-badge.svg\" alt=\"Open In Colab\"/></a>"
      ]
    },
    {
      "cell_type": "code",
      "metadata": {
        "colab": {
          "base_uri": "https://localhost:8080/"
        },
        "id": "1395WVq3JG7H",
        "outputId": "3f470a25-5ade-41be-cceb-d0928e6e98cb"
      },
      "source": [
        "from google.colab import drive\n",
        "drive.mount('/content/gdrive')"
      ],
      "execution_count": null,
      "outputs": [
        {
          "output_type": "stream",
          "text": [
            "Mounted at /content/gdrive\n"
          ],
          "name": "stdout"
        }
      ]
    },
    {
      "cell_type": "code",
      "metadata": {
        "id": "V3WPIkJItVAv"
      },
      "source": [
        "!pip install tensorflowjs\n",
        "import tensorflowjs as tfjs"
      ],
      "execution_count": null,
      "outputs": []
    },
    {
      "cell_type": "code",
      "metadata": {
        "id": "VvvPv4emghRy"
      },
      "source": [
        "import pandas as pd\n",
        "import numpy as np\n",
        "import seaborn as sn\n",
        "import matplotlib.pyplot as plt\n",
        "from sklearn.model_selection import train_test_split\n",
        "from random import randint\n",
        "from sklearn.utils import shuffle\n",
        "from sklearn.preprocessing import MinMaxScaler"
      ],
      "execution_count": null,
      "outputs": []
    },
    {
      "cell_type": "code",
      "metadata": {
        "id": "SHuq3rv6mbmr"
      },
      "source": [
        "import tensorflow as tf\n",
        "from tensorflow import keras\n",
        "from tensorflow.keras.models import Sequential\n",
        "from tensorflow.keras.layers import Activation\n",
        "from tensorflow.keras.optimizers import Adam\n",
        "from tensorflow.keras.metrics import categorical_crossentropy\n",
        "from keras.layers import Activation, Dense"
      ],
      "execution_count": null,
      "outputs": []
    },
    {
      "cell_type": "code",
      "metadata": {
        "id": "0AacIFESkr_w"
      },
      "source": [
        "train_samples = []\n",
        "train_labels = []"
      ],
      "execution_count": null,
      "outputs": []
    },
    {
      "cell_type": "code",
      "metadata": {
        "colab": {
          "base_uri": "https://localhost:8080/"
        },
        "id": "-x--LAxuJrL7",
        "outputId": "cd0a9724-4e3d-44d8-b9c3-9e3493f336d4"
      },
      "source": [
        "# data = pd.read_csv(\"/content/gdrive/MyDrive/ColabNotebooks/keras/iris/Iris.csv\")\n",
        "\n",
        "data = pd.read_csv(\"/content/gdrive/MyDrive/ColabNotebooks/keras/capstone/uncorrelated_training_data.csv\")\n",
        "\n",
        "data = data[data[\"almanac_labels\"] != \"other\"]\n",
        "# data = data[data[\"almanac_labels\"] != \"customer-success\"]\n",
        "data = data.replace(\"ads\", \"ads+marketing\");\n",
        "data = data.replace(\"marketing\", \"ads+marketing\");\n",
        "data = data.replace(\"tag-manager\", \"tag-manager+content\");\n",
        "data = data.replace(\"content\", \"tag-manager+content\");\n",
        "data = data.replace(\"hosting\", \"hosting+cdn\");\n",
        "data = data.replace(\"cdn\", \"hosting+cdn\");\n",
        "\n",
        "data.columns = data.columns.str.replace(r\"|\", \"__\")\n",
        "\n",
        "\n",
        "labels = list(data[\"almanac_labels\"])\n",
        "data = data.drop(columns=[\"URL\", \"Script Index\", \"almanac_labels\"])\n",
        "print(data.head())\n",
        "LABELS_MAP = {\n",
        "\t\"ads+marketing\": 0,\n",
        "\t\"tag-manager+content\": 1,\n",
        "\t\"hosting+cdn\": 2,\n",
        "\t\"video\": 3,\n",
        "\t\"utility\": 4,\n",
        "\t\"analytics\": 5,\n",
        "\t\"social\":6,\n",
        "\t\"customer-success\":7\n",
        "}\n",
        "classes = [\"ads+marketing\", \"tag-manager+content\", \"hosting+cdn\", \"video\", \"utility\", \"analytics\", \"social\", \"customer-success\"]\n",
        "for index, ele in enumerate(labels):\n",
        "  labels[index] = LABELS_MAP[ele]"
      ],
      "execution_count": null,
      "outputs": [
        {
          "output_type": "stream",
          "text": [
            "   addEventListener__createElement__getElementsByTagName__insertBefore__toString  ...  parent\n",
            "0                                                  0                              ...       0\n",
            "1                                                  1                              ...       0\n",
            "2                                                  0                              ...       0\n",
            "3                                                  1                              ...       0\n",
            "4                                                  1                              ...      10\n",
            "\n",
            "[5 rows x 508 columns]\n"
          ],
          "name": "stdout"
        }
      ]
    },
    {
      "cell_type": "code",
      "metadata": {
        "id": "lE1TLVyMMp9x"
      },
      "source": [
        "# x_train, x_test, y_train, y_test = train_test_split(data, labels, train_size=0.85, stratify=labels, random_state=10)\n",
        "# x_train = np.array(x_train,dtype=np.float)\n",
        "# x_test = np.array(x_test,dtype=np.float)\n",
        "# y_train = np.array(y_train,dtype=np.float)\n",
        "# y_test = np.array(y_test,dtype=np.float)\n",
        "data =  np.array(data,dtype=np.float)\n",
        "labels = np.array(labels,dtype=np.float)"
      ],
      "execution_count": null,
      "outputs": []
    },
    {
      "cell_type": "code",
      "metadata": {
        "id": "Am4fvT1WkwEd"
      },
      "source": [
        "model = Sequential([\n",
        "    Dense(units=16, input_shape=(508,), activation='relu'),\n",
        "    Dense(units=32, activation='relu'),\n",
        "    Dense(units=8, activation='softmax')\n",
        "])\n"
      ],
      "execution_count": null,
      "outputs": []
    },
    {
      "cell_type": "code",
      "metadata": {
        "colab": {
          "base_uri": "https://localhost:8080/"
        },
        "id": "YoTKDHMQ5ejS",
        "outputId": "3a2718d7-b80b-4165-98aa-0673d0b12ec7"
      },
      "source": [
        "model.summary()"
      ],
      "execution_count": null,
      "outputs": [
        {
          "output_type": "stream",
          "text": [
            "Model: \"sequential\"\n",
            "_________________________________________________________________\n",
            "Layer (type)                 Output Shape              Param #   \n",
            "=================================================================\n",
            "dense (Dense)                (None, 16)                80        \n",
            "_________________________________________________________________\n",
            "dense_1 (Dense)              (None, 32)                544       \n",
            "_________________________________________________________________\n",
            "dense_2 (Dense)              (None, 3)                 99        \n",
            "=================================================================\n",
            "Total params: 723\n",
            "Trainable params: 723\n",
            "Non-trainable params: 0\n",
            "_________________________________________________________________\n"
          ],
          "name": "stdout"
        }
      ]
    },
    {
      "cell_type": "code",
      "metadata": {
        "id": "ia2bs5ns5s4y"
      },
      "source": [
        "model.compile(\n",
        "    optimizer=Adam(learning_rate=0.0001), \n",
        "    loss='sparse_categorical_crossentropy', \n",
        "    metrics=['accuracy'])"
      ],
      "execution_count": null,
      "outputs": []
    },
    {
      "cell_type": "code",
      "metadata": {
        "colab": {
          "base_uri": "https://localhost:8080/"
        },
        "id": "4CmAuTmM6KWI",
        "outputId": "32ef3ba4-d909-4af2-b871-93b629f3c7bd"
      },
      "source": [
        "model.fit(\n",
        "      x=data\n",
        "    , y=labels\n",
        "    , validation_split=0.15\n",
        "    , batch_size=32\n",
        "    , epochs=100\n",
        "    , verbose=2\n",
        ")"
      ],
      "execution_count": null,
      "outputs": [
        {
          "output_type": "stream",
          "text": [
            "Epoch 1/100\n",
            "3004/3004 - 4s - loss: 1.3105 - accuracy: 0.5821 - val_loss: 1.0830 - val_accuracy: 0.6180\n",
            "Epoch 2/100\n",
            "3004/3004 - 3s - loss: 0.9682 - accuracy: 0.6678 - val_loss: 0.9408 - val_accuracy: 0.6886\n",
            "Epoch 3/100\n",
            "3004/3004 - 3s - loss: 0.8687 - accuracy: 0.7133 - val_loss: 0.8705 - val_accuracy: 0.7136\n",
            "Epoch 4/100\n",
            "3004/3004 - 3s - loss: 0.8091 - accuracy: 0.7350 - val_loss: 0.8217 - val_accuracy: 0.7413\n",
            "Epoch 5/100\n",
            "3004/3004 - 3s - loss: 0.7657 - accuracy: 0.7589 - val_loss: 0.7850 - val_accuracy: 0.7513\n",
            "Epoch 6/100\n",
            "3004/3004 - 3s - loss: 0.7321 - accuracy: 0.7672 - val_loss: 0.7567 - val_accuracy: 0.7661\n",
            "Epoch 7/100\n",
            "3004/3004 - 3s - loss: 0.7040 - accuracy: 0.7786 - val_loss: 0.7334 - val_accuracy: 0.7708\n",
            "Epoch 8/100\n",
            "3004/3004 - 3s - loss: 0.6826 - accuracy: 0.7863 - val_loss: 0.7181 - val_accuracy: 0.7831\n",
            "Epoch 9/100\n",
            "3004/3004 - 3s - loss: 0.6649 - accuracy: 0.7993 - val_loss: 0.7026 - val_accuracy: 0.7924\n",
            "Epoch 10/100\n",
            "3004/3004 - 3s - loss: 0.6498 - accuracy: 0.8037 - val_loss: 0.6899 - val_accuracy: 0.7960\n",
            "Epoch 11/100\n",
            "3004/3004 - 3s - loss: 0.6366 - accuracy: 0.8063 - val_loss: 0.6815 - val_accuracy: 0.7982\n",
            "Epoch 12/100\n",
            "3004/3004 - 3s - loss: 0.6253 - accuracy: 0.8090 - val_loss: 0.6724 - val_accuracy: 0.8007\n",
            "Epoch 13/100\n",
            "3004/3004 - 3s - loss: 0.6156 - accuracy: 0.8111 - val_loss: 0.6637 - val_accuracy: 0.8024\n",
            "Epoch 14/100\n",
            "3004/3004 - 3s - loss: 0.6073 - accuracy: 0.8125 - val_loss: 0.6591 - val_accuracy: 0.8036\n",
            "Epoch 15/100\n",
            "3004/3004 - 3s - loss: 0.5987 - accuracy: 0.8143 - val_loss: 0.6546 - val_accuracy: 0.8056\n",
            "Epoch 16/100\n",
            "3004/3004 - 3s - loss: 0.5915 - accuracy: 0.8163 - val_loss: 0.6445 - val_accuracy: 0.8073\n",
            "Epoch 17/100\n",
            "3004/3004 - 3s - loss: 0.5850 - accuracy: 0.8173 - val_loss: 0.6411 - val_accuracy: 0.8074\n",
            "Epoch 18/100\n",
            "3004/3004 - 3s - loss: 0.5788 - accuracy: 0.8189 - val_loss: 0.6367 - val_accuracy: 0.8084\n",
            "Epoch 19/100\n",
            "3004/3004 - 4s - loss: 0.5729 - accuracy: 0.8243 - val_loss: 0.6317 - val_accuracy: 0.8137\n",
            "Epoch 20/100\n",
            "3004/3004 - 4s - loss: 0.5675 - accuracy: 0.8255 - val_loss: 0.6272 - val_accuracy: 0.8143\n",
            "Epoch 21/100\n",
            "3004/3004 - 4s - loss: 0.5625 - accuracy: 0.8266 - val_loss: 0.6243 - val_accuracy: 0.8156\n",
            "Epoch 22/100\n",
            "3004/3004 - 3s - loss: 0.5573 - accuracy: 0.8284 - val_loss: 0.6183 - val_accuracy: 0.8176\n",
            "Epoch 23/100\n",
            "3004/3004 - 3s - loss: 0.5530 - accuracy: 0.8291 - val_loss: 0.6134 - val_accuracy: 0.8188\n",
            "Epoch 24/100\n",
            "3004/3004 - 3s - loss: 0.5491 - accuracy: 0.8297 - val_loss: 0.6104 - val_accuracy: 0.8201\n",
            "Epoch 25/100\n",
            "3004/3004 - 3s - loss: 0.5448 - accuracy: 0.8305 - val_loss: 0.6104 - val_accuracy: 0.8201\n",
            "Epoch 26/100\n",
            "3004/3004 - 3s - loss: 0.5417 - accuracy: 0.8311 - val_loss: 0.6055 - val_accuracy: 0.8208\n",
            "Epoch 27/100\n",
            "3004/3004 - 3s - loss: 0.5379 - accuracy: 0.8320 - val_loss: 0.6053 - val_accuracy: 0.8214\n",
            "Epoch 28/100\n",
            "3004/3004 - 3s - loss: 0.5349 - accuracy: 0.8326 - val_loss: 0.6001 - val_accuracy: 0.8239\n",
            "Epoch 29/100\n",
            "3004/3004 - 3s - loss: 0.5319 - accuracy: 0.8328 - val_loss: 0.5994 - val_accuracy: 0.8228\n",
            "Epoch 30/100\n",
            "3004/3004 - 3s - loss: 0.5286 - accuracy: 0.8339 - val_loss: 0.5990 - val_accuracy: 0.8225\n",
            "Epoch 31/100\n",
            "3004/3004 - 3s - loss: 0.5261 - accuracy: 0.8341 - val_loss: 0.5979 - val_accuracy: 0.8225\n",
            "Epoch 32/100\n",
            "3004/3004 - 3s - loss: 0.5235 - accuracy: 0.8342 - val_loss: 0.5952 - val_accuracy: 0.8234\n",
            "Epoch 33/100\n",
            "3004/3004 - 3s - loss: 0.5207 - accuracy: 0.8350 - val_loss: 0.5933 - val_accuracy: 0.8241\n",
            "Epoch 34/100\n",
            "3004/3004 - 3s - loss: 0.5182 - accuracy: 0.8351 - val_loss: 0.5905 - val_accuracy: 0.8237\n",
            "Epoch 35/100\n",
            "3004/3004 - 3s - loss: 0.5161 - accuracy: 0.8361 - val_loss: 0.5885 - val_accuracy: 0.8242\n",
            "Epoch 36/100\n",
            "3004/3004 - 3s - loss: 0.5134 - accuracy: 0.8364 - val_loss: 0.5867 - val_accuracy: 0.8254\n",
            "Epoch 37/100\n",
            "3004/3004 - 3s - loss: 0.5114 - accuracy: 0.8371 - val_loss: 0.5892 - val_accuracy: 0.8250\n",
            "Epoch 38/100\n",
            "3004/3004 - 3s - loss: 0.5091 - accuracy: 0.8380 - val_loss: 0.5861 - val_accuracy: 0.8260\n",
            "Epoch 39/100\n",
            "3004/3004 - 3s - loss: 0.5069 - accuracy: 0.8384 - val_loss: 0.5840 - val_accuracy: 0.8290\n",
            "Epoch 40/100\n",
            "3004/3004 - 3s - loss: 0.5051 - accuracy: 0.8392 - val_loss: 0.5797 - val_accuracy: 0.8293\n",
            "Epoch 41/100\n",
            "3004/3004 - 3s - loss: 0.5032 - accuracy: 0.8394 - val_loss: 0.5793 - val_accuracy: 0.8307\n",
            "Epoch 42/100\n",
            "3004/3004 - 3s - loss: 0.5009 - accuracy: 0.8400 - val_loss: 0.5778 - val_accuracy: 0.8298\n",
            "Epoch 43/100\n",
            "3004/3004 - 3s - loss: 0.4994 - accuracy: 0.8401 - val_loss: 0.5817 - val_accuracy: 0.8308\n",
            "Epoch 44/100\n",
            "3004/3004 - 3s - loss: 0.4978 - accuracy: 0.8406 - val_loss: 0.5757 - val_accuracy: 0.8309\n",
            "Epoch 45/100\n",
            "3004/3004 - 3s - loss: 0.4956 - accuracy: 0.8413 - val_loss: 0.5765 - val_accuracy: 0.8306\n",
            "Epoch 46/100\n",
            "3004/3004 - 3s - loss: 0.4940 - accuracy: 0.8414 - val_loss: 0.5730 - val_accuracy: 0.8308\n",
            "Epoch 47/100\n",
            "3004/3004 - 3s - loss: 0.4925 - accuracy: 0.8417 - val_loss: 0.5748 - val_accuracy: 0.8312\n",
            "Epoch 48/100\n",
            "3004/3004 - 3s - loss: 0.4906 - accuracy: 0.8418 - val_loss: 0.5708 - val_accuracy: 0.8323\n",
            "Epoch 49/100\n",
            "3004/3004 - 3s - loss: 0.4890 - accuracy: 0.8425 - val_loss: 0.5712 - val_accuracy: 0.8311\n",
            "Epoch 50/100\n",
            "3004/3004 - 3s - loss: 0.4879 - accuracy: 0.8422 - val_loss: 0.5687 - val_accuracy: 0.8325\n",
            "Epoch 51/100\n",
            "3004/3004 - 3s - loss: 0.4862 - accuracy: 0.8427 - val_loss: 0.5673 - val_accuracy: 0.8334\n",
            "Epoch 52/100\n",
            "3004/3004 - 3s - loss: 0.4846 - accuracy: 0.8431 - val_loss: 0.5662 - val_accuracy: 0.8330\n",
            "Epoch 53/100\n",
            "3004/3004 - 3s - loss: 0.4833 - accuracy: 0.8431 - val_loss: 0.5648 - val_accuracy: 0.8334\n",
            "Epoch 54/100\n",
            "3004/3004 - 3s - loss: 0.4820 - accuracy: 0.8435 - val_loss: 0.5663 - val_accuracy: 0.8324\n",
            "Epoch 55/100\n",
            "3004/3004 - 3s - loss: 0.4810 - accuracy: 0.8442 - val_loss: 0.5639 - val_accuracy: 0.8336\n",
            "Epoch 56/100\n",
            "3004/3004 - 3s - loss: 0.4793 - accuracy: 0.8444 - val_loss: 0.5654 - val_accuracy: 0.8348\n",
            "Epoch 57/100\n",
            "3004/3004 - 3s - loss: 0.4781 - accuracy: 0.8458 - val_loss: 0.5607 - val_accuracy: 0.8354\n",
            "Epoch 58/100\n",
            "3004/3004 - 3s - loss: 0.4765 - accuracy: 0.8461 - val_loss: 0.5611 - val_accuracy: 0.8353\n",
            "Epoch 59/100\n",
            "3004/3004 - 3s - loss: 0.4757 - accuracy: 0.8467 - val_loss: 0.5633 - val_accuracy: 0.8364\n",
            "Epoch 60/100\n",
            "3004/3004 - 3s - loss: 0.4743 - accuracy: 0.8473 - val_loss: 0.5596 - val_accuracy: 0.8372\n",
            "Epoch 61/100\n",
            "3004/3004 - 3s - loss: 0.4728 - accuracy: 0.8473 - val_loss: 0.5589 - val_accuracy: 0.8373\n",
            "Epoch 62/100\n",
            "3004/3004 - 3s - loss: 0.4716 - accuracy: 0.8477 - val_loss: 0.5597 - val_accuracy: 0.8361\n",
            "Epoch 63/100\n",
            "3004/3004 - 3s - loss: 0.4704 - accuracy: 0.8473 - val_loss: 0.5578 - val_accuracy: 0.8377\n",
            "Epoch 64/100\n",
            "3004/3004 - 3s - loss: 0.4693 - accuracy: 0.8480 - val_loss: 0.5568 - val_accuracy: 0.8369\n",
            "Epoch 65/100\n",
            "3004/3004 - 3s - loss: 0.4680 - accuracy: 0.8482 - val_loss: 0.5565 - val_accuracy: 0.8381\n",
            "Epoch 66/100\n",
            "3004/3004 - 3s - loss: 0.4672 - accuracy: 0.8485 - val_loss: 0.5543 - val_accuracy: 0.8372\n",
            "Epoch 67/100\n",
            "3004/3004 - 3s - loss: 0.4663 - accuracy: 0.8488 - val_loss: 0.5581 - val_accuracy: 0.8376\n",
            "Epoch 68/100\n",
            "3004/3004 - 3s - loss: 0.4652 - accuracy: 0.8489 - val_loss: 0.5532 - val_accuracy: 0.8380\n",
            "Epoch 69/100\n",
            "3004/3004 - 3s - loss: 0.4642 - accuracy: 0.8496 - val_loss: 0.5547 - val_accuracy: 0.8393\n",
            "Epoch 70/100\n",
            "3004/3004 - 3s - loss: 0.4630 - accuracy: 0.8501 - val_loss: 0.5523 - val_accuracy: 0.8376\n",
            "Epoch 71/100\n",
            "3004/3004 - 3s - loss: 0.4618 - accuracy: 0.8503 - val_loss: 0.5544 - val_accuracy: 0.8387\n",
            "Epoch 72/100\n",
            "3004/3004 - 3s - loss: 0.4611 - accuracy: 0.8508 - val_loss: 0.5512 - val_accuracy: 0.8383\n",
            "Epoch 73/100\n",
            "3004/3004 - 3s - loss: 0.4603 - accuracy: 0.8507 - val_loss: 0.5514 - val_accuracy: 0.8386\n",
            "Epoch 74/100\n",
            "3004/3004 - 3s - loss: 0.4593 - accuracy: 0.8508 - val_loss: 0.5515 - val_accuracy: 0.8377\n",
            "Epoch 75/100\n",
            "3004/3004 - 3s - loss: 0.4585 - accuracy: 0.8511 - val_loss: 0.5519 - val_accuracy: 0.8383\n",
            "Epoch 76/100\n",
            "3004/3004 - 3s - loss: 0.4574 - accuracy: 0.8518 - val_loss: 0.5501 - val_accuracy: 0.8384\n",
            "Epoch 77/100\n",
            "3004/3004 - 3s - loss: 0.4569 - accuracy: 0.8518 - val_loss: 0.5496 - val_accuracy: 0.8384\n",
            "Epoch 78/100\n",
            "3004/3004 - 3s - loss: 0.4563 - accuracy: 0.8519 - val_loss: 0.5521 - val_accuracy: 0.8396\n",
            "Epoch 79/100\n",
            "3004/3004 - 3s - loss: 0.4559 - accuracy: 0.8525 - val_loss: 0.5498 - val_accuracy: 0.8389\n",
            "Epoch 80/100\n",
            "3004/3004 - 3s - loss: 0.4543 - accuracy: 0.8526 - val_loss: 0.5518 - val_accuracy: 0.8392\n",
            "Epoch 81/100\n",
            "3004/3004 - 4s - loss: 0.4534 - accuracy: 0.8532 - val_loss: 0.5459 - val_accuracy: 0.8395\n",
            "Epoch 82/100\n",
            "3004/3004 - 4s - loss: 0.4528 - accuracy: 0.8523 - val_loss: 0.5489 - val_accuracy: 0.8402\n",
            "Epoch 83/100\n",
            "3004/3004 - 3s - loss: 0.4525 - accuracy: 0.8532 - val_loss: 0.5459 - val_accuracy: 0.8397\n",
            "Epoch 84/100\n",
            "3004/3004 - 3s - loss: 0.4518 - accuracy: 0.8531 - val_loss: 0.5460 - val_accuracy: 0.8386\n",
            "Epoch 85/100\n",
            "3004/3004 - 3s - loss: 0.4506 - accuracy: 0.8540 - val_loss: 0.5459 - val_accuracy: 0.8392\n",
            "Epoch 86/100\n",
            "3004/3004 - 3s - loss: 0.4505 - accuracy: 0.8533 - val_loss: 0.5463 - val_accuracy: 0.8403\n",
            "Epoch 87/100\n",
            "3004/3004 - 3s - loss: 0.4496 - accuracy: 0.8542 - val_loss: 0.5486 - val_accuracy: 0.8408\n",
            "Epoch 88/100\n",
            "3004/3004 - 3s - loss: 0.4489 - accuracy: 0.8538 - val_loss: 0.5455 - val_accuracy: 0.8398\n",
            "Epoch 89/100\n",
            "3004/3004 - 3s - loss: 0.4480 - accuracy: 0.8548 - val_loss: 0.5445 - val_accuracy: 0.8402\n",
            "Epoch 90/100\n",
            "3004/3004 - 3s - loss: 0.4476 - accuracy: 0.8548 - val_loss: 0.5433 - val_accuracy: 0.8390\n",
            "Epoch 91/100\n",
            "3004/3004 - 3s - loss: 0.4468 - accuracy: 0.8548 - val_loss: 0.5428 - val_accuracy: 0.8411\n",
            "Epoch 92/100\n",
            "3004/3004 - 3s - loss: 0.4462 - accuracy: 0.8550 - val_loss: 0.5455 - val_accuracy: 0.8403\n",
            "Epoch 93/100\n",
            "3004/3004 - 3s - loss: 0.4458 - accuracy: 0.8553 - val_loss: 0.5450 - val_accuracy: 0.8409\n",
            "Epoch 94/100\n",
            "3004/3004 - 3s - loss: 0.4448 - accuracy: 0.8551 - val_loss: 0.5426 - val_accuracy: 0.8418\n",
            "Epoch 95/100\n",
            "3004/3004 - 3s - loss: 0.4443 - accuracy: 0.8560 - val_loss: 0.5398 - val_accuracy: 0.8406\n",
            "Epoch 96/100\n",
            "3004/3004 - 3s - loss: 0.4440 - accuracy: 0.8557 - val_loss: 0.5407 - val_accuracy: 0.8403\n",
            "Epoch 97/100\n",
            "3004/3004 - 3s - loss: 0.4433 - accuracy: 0.8563 - val_loss: 0.5390 - val_accuracy: 0.8402\n",
            "Epoch 98/100\n",
            "3004/3004 - 3s - loss: 0.4427 - accuracy: 0.8564 - val_loss: 0.5400 - val_accuracy: 0.8413\n",
            "Epoch 99/100\n",
            "3004/3004 - 3s - loss: 0.4422 - accuracy: 0.8567 - val_loss: 0.5429 - val_accuracy: 0.8406\n",
            "Epoch 100/100\n",
            "3004/3004 - 3s - loss: 0.4414 - accuracy: 0.8567 - val_loss: 0.5413 - val_accuracy: 0.8412\n"
          ],
          "name": "stdout"
        },
        {
          "output_type": "execute_result",
          "data": {
            "text/plain": [
              "<tensorflow.python.keras.callbacks.History at 0x7f26f30097b8>"
            ]
          },
          "metadata": {
            "tags": []
          },
          "execution_count": 11
        }
      ]
    },
    {
      "cell_type": "code",
      "metadata": {
        "colab": {
          "base_uri": "https://localhost:8080/"
        },
        "id": "3kyXOHiDovQZ",
        "outputId": "4a9fb632-0609-4720-954e-2ca4c80dfad4"
      },
      "source": [
        "# Let's save this model for keras\n",
        "model.save(\"/content/gdrive/MyDrive/ColabNotebooks/keras/capstone/keras_saved_model/\")\n",
        "\n",
        "# Let's save this model for tensorflow js\n",
        "tfjs.converters.save_keras_model(model, \"/content/gdrive/MyDrive/ColabNotebooks/keras/capstone/tfjs_saved_model\")"
      ],
      "execution_count": null,
      "outputs": [
        {
          "output_type": "stream",
          "text": [
            "INFO:tensorflow:Assets written to: /content/gdrive/MyDrive/ColabNotebooks/keras/capstone/keras_saved_model/assets\n"
          ],
          "name": "stdout"
        },
        {
          "output_type": "stream",
          "text": [
            "/usr/local/lib/python3.6/dist-packages/tensorflowjs/converters/keras_h5_conversion.py:123: H5pyDeprecationWarning: The default file mode will change to 'r' (read-only) in h5py 3.0. To suppress this warning, pass the mode you need to h5py.File(), or set the global default h5.get_config().default_file_mode, or set the environment variable H5PY_DEFAULT_READONLY=1. Available modes are: 'r', 'r+', 'w', 'w-'/'x', 'a'. See the docs for details.\n",
            "  return h5py.File(h5file)\n"
          ],
          "name": "stderr"
        }
      ]
    },
    {
      "cell_type": "code",
      "metadata": {
        "id": "f2ZkqMtXG-U_"
      },
      "source": [
        "# Load the keras model and use it to predict\n",
        "model = keras.models.load_model(\"/content/gdrive/MyDrive/ColabNotebooks/keras/capstone/keras_saved_model/\")"
      ],
      "execution_count": null,
      "outputs": []
    },
    {
      "cell_type": "code",
      "metadata": {
        "id": "iBvap-SiCEoH"
      },
      "source": [
        "test_data = [[ 0.,  0.,  0.,  0.,  0.,  0.,  0.,  0.,  0.,  0.,  0.,  0.,  0.,\n",
        "        0.,  0.,  0.,  0.,  0.,  0.,  0.,  0.,  0.,  0.,  0.,  0.,  0.,\n",
        "        0.,  0.,  0.,  0.,  0.,  0.,  0.,  0.,  0.,  0.,  0.,  0.,  0.,\n",
        "        0.,  0.,  0.,  0.,  0.,  0.,  0.,  0.,  0.,  0.,  0.,  0.,  0.,\n",
        "        0.,  0.,  0.,  0.,  0.,  0.,  0.,  0.,  0.,  0.,  0.,  0.,  0.,\n",
        "        0.,  0.,  0.,  0.,  1.,  0.,  0.,  0.,  0.,  0.,  0.,  0.,  0.,\n",
        "        0.,  0.,  0.,  0.,  0.,  0.,  0.,  0.,  0.,  0.,  0.,  0., 16.,\n",
        "        0.,  0.,  0.,  0.,  0.,  0.,  0.,  0.,  0.,  0.,  0.,  0.,  0.,\n",
        "        1.,  0.,  0.,  0.,  0.,  0.,  0.,  0.,  0.,  0.,  1.,  0.,  1.,\n",
        "        0.,  1.,  0.,  0.,  0.,  0.,  0.,  6.,  0.,  0.,  0.,  0.,  0.,\n",
        "        0.,  0.,  0.,  4.,  0.,  0.,  1.,  0.,  0.,  0.,  0.,  0.,  0.,\n",
        "        0.,  0.,  0.,  0.,  0.,  0.,  0.,  0.,  0.,  0.,  0.,  0.,  0.,\n",
        "        0.,  0.,  0.,  0.,  0.,  0.,  0.,  0.,  0.,  0.,  0.,  0.,  0.,\n",
        "        0.,  0.,  0.,  0.,  0.,  0.,  0.,  0.,  0.,  0.,  0.,  0.,  0.,\n",
        "        0.,  0.,  0.,  0.,  0.,  0.,  4.,  0.,  0.,  0.,  0.,  0.,  0.,\n",
        "        0.,  0.,  0.,  1.,  0.,  0.,  0.,  0.,  0.,  0.,  0.,  0.,  0.,\n",
        "        0.,  0.,  0.,  0.,  0.,  0.,  0.,  1.,  0.,  0.,  0.,  0.,  0.,\n",
        "        0.,  0.,  0.,  0.,  0.,  0.,  0.,  0.,  0.,  0.,  0.,  0.,  0.,\n",
        "        0.,  0.,  0.,  0.,  0.,  0.,  0.,  0.,  0.,  0.,  0.,  0.,  0.,\n",
        "        0.,  0.,  0.,  0.,  0.,  0.,  0.,  0.,  0.,  0.,  0.,  0.,  0.,\n",
        "        0.,  0.,  0.,  0.,  0.,  0.,  0.,  0.,  0.,  0.,  0.,  0.,  0.,\n",
        "        0.,  0.,  0.,  0.,  0.,  0.,  0.,  0.,  0.,  0.,  0.,  0.,  0.,\n",
        "        0.,  0.,  0.,  0.,  0.,  0.,  0.,  0.,  0.,  0.,  0.,  0.,  0.,\n",
        "        0.,  0.,  0.,  0.,  0.,  0.,  0.,  0.,  0.,  0.,  0.,  0.,  0.,\n",
        "        0.,  0.,  0.,  6.,  0.,  0.,  0.,  0.,  0.,  0.,  0.,  0.,  0.,\n",
        "        0.,  0.,  0.,  0.,  0.,  0.,  0.,  0.,  0.,  0.,  0.,  0.,  0.,\n",
        "        0.,  0.,  0.,  0.,  0.,  0.,  0.,  0.,  0.,  0.,  0.,  0.,  0.,\n",
        "        0., 19.,  0.,  0.,  0.,  0.,  0.,  0.,  0.,  0.,  0.,  0.,  0.,\n",
        "        0.,  0.,  0.,  0.,  0.,  0.,  0.,  0.,  0.,  0.,  0.,  0.,  0.,\n",
        "        0.,  0.,  0.,  0.,  0.,  0.,  0.,  0.,  0.,  0.,  0.,  1.,  4.,\n",
        "        0.,  0.,  0.,  0.,  0.,  0.,  0.,  0.,  0.,  0.,  0.,  0.,  0.,\n",
        "        0.,  0.,  0.,  0.,  0.,  0.,  0.,  0.,  0.,  0.,  0.,  0.,  0.,\n",
        "        0.,  0.,  0.,  0.,  0.,  0.,  0.,  0.,  0.,  1.,  0.,  0.,  0.,\n",
        "        0.,  0.,  0.,  0.,  0.,  0.,  0.,  0.,  0.,  0.,  0.,  0.,  2.,\n",
        "        0.,  0.,  0.,  0.,  3.,  0.,  0.,  0.,  0.,  0.,  0.,  0.,  0.,\n",
        "        0.,  0.,  0.,  0.,  0.,  0.,  0.,  0.,  0.,  0.,  0.,  0.,  0.,\n",
        "        0.,  0.,  0.,  0.,  0.,  0.,  0.,  0.,  0.,  0.,  0.,  0.,  1.,\n",
        "        7.,  0.,  0.,  0.,  0.,  0.,  0.,  0.,  0.,  0.,  0.,  0.,  0.,\n",
        "        0.,  0.,  0.,  0.,  0.,  0.,  0.,  0.,  0.,  0.,  0.,  0.,  0.,\n",
        "        0.]]\n",
        "    \n",
        "# test_data = pd.DataFrame(test_data, columns =[\"SepalLengthCm\",\"SepalWidthCm\", \"PetalLengthCm\",\"PetalWidthCm\"]) \n",
        "# test_data2 = pd.DataFrame(test_data2, columns =[\"SepalLengthCm\",\"SepalWidthCm\", \"PetalLengthCm\",\"PetalWidthCm\"]) "
      ],
      "execution_count": null,
      "outputs": []
    },
    {
      "cell_type": "code",
      "metadata": {
        "id": "qrFo6bdF8g2k"
      },
      "source": [
        "predictions = model.predict(\n",
        "      x=test_data\n",
        "    , batch_size=10\n",
        "    , verbose=0\n",
        ")  "
      ],
      "execution_count": null,
      "outputs": []
    },
    {
      "cell_type": "code",
      "metadata": {
        "colab": {
          "base_uri": "https://localhost:8080/",
          "height": 35
        },
        "id": "AOcSBE-MRMRj",
        "outputId": "71658144-43e9-4390-8966-d44cb2bb82a2"
      },
      "source": [
        "predicted_index = np.argmax(predictions[0])\n",
        "classes[predicted_index]"
      ],
      "execution_count": null,
      "outputs": [
        {
          "output_type": "execute_result",
          "data": {
            "application/vnd.google.colaboratory.intrinsic+json": {
              "type": "string"
            },
            "text/plain": [
              "'video'"
            ]
          },
          "metadata": {
            "tags": []
          },
          "execution_count": 28
        }
      ]
    }
  ]
}